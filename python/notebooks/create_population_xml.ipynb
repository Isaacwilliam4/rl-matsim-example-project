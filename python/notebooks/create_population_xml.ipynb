{
 "cells": [
  {
   "cell_type": "code",
   "execution_count": 2,
   "metadata": {},
   "outputs": [],
   "source": [
    "import xml.etree.ElementTree as ET\n",
    "import random"
   ]
  },
  {
   "cell_type": "code",
   "execution_count": 3,
   "metadata": {},
   "outputs": [],
   "source": [
    "def load_network_xml(network_file):\n",
    "    # Parse the network XML file\n",
    "    tree = ET.parse(network_file)\n",
    "    root = tree.getroot()\n",
    "\n",
    "    # Create a dictionary to store node coordinates by ID\n",
    "    node_coords = {}\n",
    "\n",
    "    # Find all node elements\n",
    "    for node in root.findall(\".//node\"):\n",
    "        node_id = node.get(\"id\")\n",
    "        x = float(node.get(\"x\"))\n",
    "        y = float(node.get(\"y\"))\n",
    "\n",
    "        # Store node coordinates in the dictionary\n",
    "        node_coords[node_id] = (x, y)\n",
    "\n",
    "    return node_coords"
   ]
  },
  {
   "cell_type": "code",
   "execution_count": 17,
   "metadata": {},
   "outputs": [],
   "source": [
    "def create_population_and_plans_xml(num_agents, node_coords, output_file_path):\n",
    "    # Create the root element for the plans\n",
    "    plans = ET.Element(\"plans\", attrib={'xml:lang': 'de-CH'})  # Root element with lang attribute\n",
    "\n",
    "    # List of node IDs to randomly select for activities\n",
    "    node_ids = list(node_coords.keys())\n",
    "\n",
    "    # Loop over the number of agents\n",
    "    for i in range(1, num_agents + 1):\n",
    "        # Create a person element\n",
    "        person = ET.SubElement(plans, \"person\", id=str(i))\n",
    "\n",
    "        # Create a plan for the person\n",
    "        plan = ET.SubElement(person, \"plan\", selected=\"yes\")\n",
    "\n",
    "        # Randomly choose home and work nodes\n",
    "        home_node_id = random.choice(node_ids)\n",
    "        work_node_id = random.choice(node_ids)\n",
    "\n",
    "        home_node = node_coords[home_node_id]\n",
    "        work_node = node_coords[work_node_id]\n",
    "\n",
    "        # Define the agent's activities and legs\n",
    "        home_activity = ET.SubElement(plan, \"act\", type=\"h\", \n",
    "                                      x=str(home_node[0]), y=str(home_node[1]), end_time=\"08:00:00\")\n",
    "        leg_to_work = ET.SubElement(plan, \"leg\", mode=\"car\")\n",
    "        work_activity = ET.SubElement(plan, \"act\", type=\"w\", \n",
    "                                      x=str(work_node[0]), y=str(work_node[1]), start_time=\"08:30:00\", end_time=\"17:00:00\")\n",
    "        leg_to_home = ET.SubElement(plan, \"leg\", mode=\"car\")\n",
    "        home_activity_2 = ET.SubElement(plan, \"act\", type=\"h\", \n",
    "                                        x=str(home_node[0]), y=str(home_node[1]))\n",
    "\n",
    "    # Convert the ElementTree to a string\n",
    "    tree = ET.ElementTree(plans)\n",
    "\n",
    "    # Manually write the header to the output file\n",
    "    with open(output_file_path, \"wb\") as f:\n",
    "        # Write the XML declaration and DOCTYPE\n",
    "        f.write(b'<?xml version=\"1.0\" ?>\\n')\n",
    "        f.write(b'<!DOCTYPE plans SYSTEM \"http://www.matsim.org/files/dtd/plans_v4.dtd\">\\n')\n",
    "\n",
    "        # Write the tree structure\n",
    "        tree.write(f)"
   ]
  },
  {
   "cell_type": "code",
   "execution_count": 19,
   "metadata": {},
   "outputs": [],
   "source": [
    "node_coords = load_network_xml(\"../../scenarios/utah/utah_network_cleanv2.xml\")"
   ]
  },
  {
   "cell_type": "code",
   "execution_count": 20,
   "metadata": {},
   "outputs": [],
   "source": [
    "create_population_and_plans_xml(100, node_coords, \"../../scenarios/utah/utah_network_plan.xml\")"
   ]
  }
 ],
 "metadata": {
  "kernelspec": {
   "display_name": "optimalcharging",
   "language": "python",
   "name": "python3"
  },
  "language_info": {
   "codemirror_mode": {
    "name": "ipython",
    "version": 3
   },
   "file_extension": ".py",
   "mimetype": "text/x-python",
   "name": "python",
   "nbconvert_exporter": "python",
   "pygments_lexer": "ipython3",
   "version": "3.12.5"
  }
 },
 "nbformat": 4,
 "nbformat_minor": 2
}
