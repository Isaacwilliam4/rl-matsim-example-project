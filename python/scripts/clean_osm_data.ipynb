{
 "cells": [
  {
   "cell_type": "code",
   "execution_count": 38,
   "metadata": {},
   "outputs": [],
   "source": [
    "import osmnx as ox \n",
    "import networkx as nx"
   ]
  },
  {
   "cell_type": "code",
   "execution_count": 39,
   "metadata": {},
   "outputs": [],
   "source": [
    "G = ox.graph_from_xml('/home/isaacpeterson/research/repos/rl-matsim-example-project/scenarios/utah/utah_graph_som.osm')"
   ]
  },
  {
   "cell_type": "code",
   "execution_count": 40,
   "metadata": {},
   "outputs": [],
   "source": [
    "for u,v, key, data in G.edges(keys=True, data=True):\n",
    "  if 'maxspeed' in data:\n",
    "    if type(data['maxspeed']) == list:\n",
    "      speed = data['maxspeed'][0][:2]\n",
    "    else:\n",
    "      speed = data['maxspeed'][:2]\n",
    "    # osm data is in mph, convert to kph for matsim\n",
    "    speedint = int(speed) * 1.609\n",
    "    data['maxspeed'] = str(speedint)\n",
    "  if 'lanes' in data:\n",
    "    if type(data['lanes']) == list:\n",
    "      data['lanes'] = data['lanes'][0]\n"
   ]
  },
  {
   "cell_type": "code",
   "execution_count": 41,
   "metadata": {},
   "outputs": [
    {
     "name": "stderr",
     "output_type": "stream",
     "text": [
      "/home/isaacpeterson/miniconda3/envs/optimalcharging/lib/python3.12/site-packages/osmnx/io.py:338: FutureWarning: starting in v2.0.0, graph must be unsimplified to save as OSM XML. See the OSMnx v2 migration guide: https://github.com/gboeing/osmnx/issues/1123\n",
      "  osm_xml._save_graph_xml(\n",
      "/home/isaacpeterson/miniconda3/envs/optimalcharging/lib/python3.12/site-packages/osmnx/io.py:338: UserWarning: For the `save_graph_xml` function to behave properly, the graph must have been created with `ox.settings.all_oneway=True`.\n",
      "  osm_xml._save_graph_xml(\n",
      "/home/isaacpeterson/miniconda3/envs/optimalcharging/lib/python3.12/site-packages/osmnx/osm_xml.py:432: FutureWarning: Setting an item of incompatible dtype is deprecated and will raise in a future error of pandas. Value '['True' 'True' 'True' ... 'True' 'True' 'True']' has dtype incompatible with bool, please explicitly cast to a compatible dtype first.\n",
      "  gdf_edges.loc[:, \"oneway\"] = gdf_edges[\"oneway\"].astype(str)\n"
     ]
    }
   ],
   "source": [
    "ox.save_graph_xml(G, '/home/isaacpeterson/research/repos/rl-matsim-example-project/scenarios/utah/utah_graph_cleaned.osm')"
   ]
  }
 ],
 "metadata": {
  "kernelspec": {
   "display_name": "optimalcharging",
   "language": "python",
   "name": "python3"
  },
  "language_info": {
   "codemirror_mode": {
    "name": "ipython",
    "version": 3
   },
   "file_extension": ".py",
   "mimetype": "text/x-python",
   "name": "python",
   "nbconvert_exporter": "python",
   "pygments_lexer": "ipython3",
   "version": "3.12.5"
  }
 },
 "nbformat": 4,
 "nbformat_minor": 2
}
